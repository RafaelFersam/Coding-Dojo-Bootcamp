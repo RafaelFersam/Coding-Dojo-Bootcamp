{
  "nbformat": 4,
  "nbformat_minor": 0,
  "metadata": {
    "colab": {
      "name": "Spacy NLP",
      "provenance": [],
      "collapsed_sections": [],
      "authorship_tag": "ABX9TyOvGF+lWifaWYQ4gEDSZp1x",
      "include_colab_link": true
    },
    "kernelspec": {
      "name": "python3",
      "display_name": "Python 3"
    },
    "language_info": {
      "name": "python"
    }
  },
  "cells": [
    {
      "cell_type": "markdown",
      "metadata": {
        "id": "view-in-github",
        "colab_type": "text"
      },
      "source": [
        "<a href=\"https://colab.research.google.com/github/RafaelFersam/Coding-Dojo-Bootcamp/blob/main/Spacy_NLP.ipynb\" target=\"_parent\"><img src=\"https://colab.research.google.com/assets/colab-badge.svg\" alt=\"Open In Colab\"/></a>"
      ]
    },
    {
      "cell_type": "code",
      "metadata": {
        "id": "Oz-zbaN-kG7U"
      },
      "source": [
        "import numpy as np\n",
        "import pandas as pd\n",
        "import spacy\n",
        "from spacy import matcher\n",
        "from spacy.matcher import Matcher\n",
        "from spacy.tokens import Span\n",
        "from spacy import displacy\n",
        "nlp = spacy.load('en_core_web_sm')"
      ],
      "execution_count": 262,
      "outputs": []
    },
    {
      "cell_type": "code",
      "metadata": {
        "id": "9Si6AlDS1UDi",
        "colab": {
          "base_uri": "https://localhost:8080/",
          "height": 508
        },
        "outputId": "3d26e819-3458-4374-ef5c-455083f6246f"
      },
      "source": [
        "df= pd.read_excel(\"/content/Datos Stock.xlsx\")\n",
        "df.shape\n",
        "df"
      ],
      "execution_count": 263,
      "outputs": [
        {
          "output_type": "execute_result",
          "data": {
            "text/html": [
              "<div>\n",
              "<style scoped>\n",
              "    .dataframe tbody tr th:only-of-type {\n",
              "        vertical-align: middle;\n",
              "    }\n",
              "\n",
              "    .dataframe tbody tr th {\n",
              "        vertical-align: top;\n",
              "    }\n",
              "\n",
              "    .dataframe thead th {\n",
              "        text-align: right;\n",
              "    }\n",
              "</style>\n",
              "<table border=\"1\" class=\"dataframe\">\n",
              "  <thead>\n",
              "    <tr style=\"text-align: right;\">\n",
              "      <th></th>\n",
              "      <th>ID_cliente</th>\n",
              "      <th>tienda</th>\n",
              "      <th>stock_disponible</th>\n",
              "      <th>ubicacion_cliente</th>\n",
              "      <th>class_number</th>\n",
              "      <th>Concatenacion</th>\n",
              "    </tr>\n",
              "  </thead>\n",
              "  <tbody>\n",
              "    <tr>\n",
              "      <th>0</th>\n",
              "      <td>1</td>\n",
              "      <td>Multiplaza</td>\n",
              "      <td>2</td>\n",
              "      <td>El Cangrejo</td>\n",
              "      <td>1</td>\n",
              "      <td>El Cangrejo, Multiplaza</td>\n",
              "    </tr>\n",
              "    <tr>\n",
              "      <th>1</th>\n",
              "      <td>2</td>\n",
              "      <td>Town Center</td>\n",
              "      <td>1</td>\n",
              "      <td>Costa del Este</td>\n",
              "      <td>1</td>\n",
              "      <td>Costa del Este, Town Center</td>\n",
              "    </tr>\n",
              "    <tr>\n",
              "      <th>2</th>\n",
              "      <td>3</td>\n",
              "      <td>Albrook</td>\n",
              "      <td>0</td>\n",
              "      <td>Clayton</td>\n",
              "      <td>0</td>\n",
              "      <td>Clayton, Albrook</td>\n",
              "    </tr>\n",
              "    <tr>\n",
              "      <th>3</th>\n",
              "      <td>4</td>\n",
              "      <td>Metromall</td>\n",
              "      <td>5</td>\n",
              "      <td>Brisas del Golf</td>\n",
              "      <td>1</td>\n",
              "      <td>Brisas del Golf, Metromall</td>\n",
              "    </tr>\n",
              "    <tr>\n",
              "      <th>4</th>\n",
              "      <td>5</td>\n",
              "      <td>Multiplaza</td>\n",
              "      <td>2</td>\n",
              "      <td>San Francisco</td>\n",
              "      <td>1</td>\n",
              "      <td>San Francisco, Multiplaza</td>\n",
              "    </tr>\n",
              "    <tr>\n",
              "      <th>5</th>\n",
              "      <td>6</td>\n",
              "      <td>Metromall</td>\n",
              "      <td>5</td>\n",
              "      <td>Brisas del Golf</td>\n",
              "      <td>1</td>\n",
              "      <td>Brisas del Golf, Metromall</td>\n",
              "    </tr>\n",
              "    <tr>\n",
              "      <th>6</th>\n",
              "      <td>7</td>\n",
              "      <td>Multiplaza</td>\n",
              "      <td>2</td>\n",
              "      <td>Paitilla</td>\n",
              "      <td>1</td>\n",
              "      <td>Paitilla, Multiplaza</td>\n",
              "    </tr>\n",
              "    <tr>\n",
              "      <th>7</th>\n",
              "      <td>8</td>\n",
              "      <td>Albrook</td>\n",
              "      <td>0</td>\n",
              "      <td>Cardenas</td>\n",
              "      <td>0</td>\n",
              "      <td>Cardenas, Albrook</td>\n",
              "    </tr>\n",
              "    <tr>\n",
              "      <th>8</th>\n",
              "      <td>9</td>\n",
              "      <td>Town Center</td>\n",
              "      <td>1</td>\n",
              "      <td>Chanis</td>\n",
              "      <td>1</td>\n",
              "      <td>Chanis, Town Center</td>\n",
              "    </tr>\n",
              "    <tr>\n",
              "      <th>9</th>\n",
              "      <td>10</td>\n",
              "      <td>Metromall</td>\n",
              "      <td>5</td>\n",
              "      <td>Cerro Viento</td>\n",
              "      <td>1</td>\n",
              "      <td>Cerro Viento, Metromall</td>\n",
              "    </tr>\n",
              "    <tr>\n",
              "      <th>10</th>\n",
              "      <td>11</td>\n",
              "      <td>Metromall</td>\n",
              "      <td>5</td>\n",
              "      <td>Villa Lucre</td>\n",
              "      <td>1</td>\n",
              "      <td>Villa Lucre, Metromall</td>\n",
              "    </tr>\n",
              "    <tr>\n",
              "      <th>11</th>\n",
              "      <td>12</td>\n",
              "      <td>Town Center</td>\n",
              "      <td>1</td>\n",
              "      <td>Santa María</td>\n",
              "      <td>1</td>\n",
              "      <td>Santa María, Town Center</td>\n",
              "    </tr>\n",
              "    <tr>\n",
              "      <th>12</th>\n",
              "      <td>13</td>\n",
              "      <td>Multiplaza</td>\n",
              "      <td>2</td>\n",
              "      <td>Via Israel</td>\n",
              "      <td>1</td>\n",
              "      <td>Via Israel, Multiplaza</td>\n",
              "    </tr>\n",
              "    <tr>\n",
              "      <th>13</th>\n",
              "      <td>14</td>\n",
              "      <td>Albrook</td>\n",
              "      <td>0</td>\n",
              "      <td>El Dorado</td>\n",
              "      <td>0</td>\n",
              "      <td>El Dorado, Albrook</td>\n",
              "    </tr>\n",
              "    <tr>\n",
              "      <th>14</th>\n",
              "      <td>15</td>\n",
              "      <td>Albrook</td>\n",
              "      <td>0</td>\n",
              "      <td>Paraiso</td>\n",
              "      <td>0</td>\n",
              "      <td>Paraiso, Albrook</td>\n",
              "    </tr>\n",
              "  </tbody>\n",
              "</table>\n",
              "</div>"
            ],
            "text/plain": [
              "    ID_cliente       tienda  ...  class_number                Concatenacion\n",
              "0            1   Multiplaza  ...             1      El Cangrejo, Multiplaza\n",
              "1            2  Town Center  ...             1  Costa del Este, Town Center\n",
              "2            3      Albrook  ...             0             Clayton, Albrook\n",
              "3            4    Metromall  ...             1   Brisas del Golf, Metromall\n",
              "4            5   Multiplaza  ...             1    San Francisco, Multiplaza\n",
              "5            6    Metromall  ...             1   Brisas del Golf, Metromall\n",
              "6            7   Multiplaza  ...             1         Paitilla, Multiplaza\n",
              "7            8      Albrook  ...             0            Cardenas, Albrook\n",
              "8            9  Town Center  ...             1          Chanis, Town Center\n",
              "9           10    Metromall  ...             1      Cerro Viento, Metromall\n",
              "10          11    Metromall  ...             1       Villa Lucre, Metromall\n",
              "11          12  Town Center  ...             1     Santa María, Town Center\n",
              "12          13   Multiplaza  ...             1       Via Israel, Multiplaza\n",
              "13          14      Albrook  ...             0           El Dorado, Albrook\n",
              "14          15      Albrook  ...             0             Paraiso, Albrook\n",
              "\n",
              "[15 rows x 6 columns]"
            ]
          },
          "metadata": {},
          "execution_count": 263
        }
      ]
    },
    {
      "cell_type": "code",
      "metadata": {
        "colab": {
          "base_uri": "https://localhost:8080/"
        },
        "id": "MGPDlVZ64ZG5",
        "outputId": "7a432fe4-940f-48bf-94bb-d868279bf8ca"
      },
      "source": [
        "df[\"Concatenacion\"]"
      ],
      "execution_count": 226,
      "outputs": [
        {
          "output_type": "execute_result",
          "data": {
            "text/plain": [
              "0         El Cangrejo, Multiplaza\n",
              "1     Costa del Este, Town Center\n",
              "2                Clayton, Albrook\n",
              "3      Brisas del Golf, Metromall\n",
              "4       San Francisco, Multiplaza\n",
              "5      Brisas del Golf, Metromall\n",
              "6            Paitilla, Multiplaza\n",
              "7               Cardenas, Albrook\n",
              "8             Chanis, Town Center\n",
              "9         Cerro Viento, Metromall\n",
              "10         Villa Lucre, Metromall\n",
              "11       Santa María, Town Center\n",
              "12         Via Israel, Multiplaza\n",
              "13             El Dorado, Albrook\n",
              "14               Paraiso, Albrook\n",
              "Name: Concatenacion, dtype: object"
            ]
          },
          "metadata": {},
          "execution_count": 226
        }
      ]
    },
    {
      "cell_type": "code",
      "metadata": {
        "colab": {
          "base_uri": "https://localhost:8080/"
        },
        "id": "7ajqgNljBR3W",
        "outputId": "245ebf59-cc66-4aaf-925c-c70c52ea7a02"
      },
      "source": [
        "datos = df[\"Concatenacion\"]\n",
        "datos"
      ],
      "execution_count": 264,
      "outputs": [
        {
          "output_type": "execute_result",
          "data": {
            "text/plain": [
              "0         El Cangrejo, Multiplaza\n",
              "1     Costa del Este, Town Center\n",
              "2                Clayton, Albrook\n",
              "3      Brisas del Golf, Metromall\n",
              "4       San Francisco, Multiplaza\n",
              "5      Brisas del Golf, Metromall\n",
              "6            Paitilla, Multiplaza\n",
              "7               Cardenas, Albrook\n",
              "8             Chanis, Town Center\n",
              "9         Cerro Viento, Metromall\n",
              "10         Villa Lucre, Metromall\n",
              "11       Santa María, Town Center\n",
              "12         Via Israel, Multiplaza\n",
              "13             El Dorado, Albrook\n",
              "14               Paraiso, Albrook\n",
              "Name: Concatenacion, dtype: object"
            ]
          },
          "metadata": {},
          "execution_count": 264
        }
      ]
    },
    {
      "cell_type": "code",
      "metadata": {
        "colab": {
          "base_uri": "https://localhost:8080/"
        },
        "id": "ugEtDiKBu_4g",
        "outputId": "836113c5-c08d-46c3-963a-257580776942"
      },
      "source": [
        "doc = datos\n",
        "doc"
      ],
      "execution_count": 265,
      "outputs": [
        {
          "output_type": "execute_result",
          "data": {
            "text/plain": [
              "0         El Cangrejo, Multiplaza\n",
              "1     Costa del Este, Town Center\n",
              "2                Clayton, Albrook\n",
              "3      Brisas del Golf, Metromall\n",
              "4       San Francisco, Multiplaza\n",
              "5      Brisas del Golf, Metromall\n",
              "6            Paitilla, Multiplaza\n",
              "7               Cardenas, Albrook\n",
              "8             Chanis, Town Center\n",
              "9         Cerro Viento, Metromall\n",
              "10         Villa Lucre, Metromall\n",
              "11       Santa María, Town Center\n",
              "12         Via Israel, Multiplaza\n",
              "13             El Dorado, Albrook\n",
              "14               Paraiso, Albrook\n",
              "Name: Concatenacion, dtype: object"
            ]
          },
          "metadata": {},
          "execution_count": 265
        }
      ]
    },
    {
      "cell_type": "code",
      "metadata": {
        "colab": {
          "base_uri": "https://localhost:8080/"
        },
        "id": "DYDonDO9edbh",
        "outputId": "b37294f5-25f4-4b59-fc7a-c48bee625226"
      },
      "source": [
        "for token in doc:\n",
        "    print(token)"
      ],
      "execution_count": 266,
      "outputs": [
        {
          "output_type": "stream",
          "name": "stdout",
          "text": [
            "El Cangrejo, Multiplaza\n",
            "Costa del Este, Town Center\n",
            "Clayton, Albrook\n",
            "Brisas del Golf, Metromall\n",
            "San Francisco, Multiplaza\n",
            "Brisas del Golf, Metromall\n",
            "Paitilla, Multiplaza\n",
            "Cardenas, Albrook\n",
            "Chanis, Town Center\n",
            "Cerro Viento, Metromall\n",
            "Villa Lucre, Metromall\n",
            "Santa María, Town Center\n",
            "Via Israel, Multiplaza\n",
            "El Dorado, Albrook\n",
            "Paraiso, Albrook\n"
          ]
        }
      ]
    },
    {
      "cell_type": "code",
      "metadata": {
        "id": "VI1LlmKGO_zu"
      },
      "source": [
        "doc = (\"El Cangrejo, Multiplaza\")"
      ],
      "execution_count": 280,
      "outputs": []
    },
    {
      "cell_type": "code",
      "metadata": {
        "id": "KWepkrOBe3qA"
      },
      "source": [
        "pattern1 = [{\"LOWER\": \"el cangrejo, san francisco, paitilla, via israel\",\"OP\":\"?\"}, {\"IS_PUNCT\": True, 'OP':'?'}, {\"LOWER\": \"multiplaza\"}]\n",
        "pattern2 = [{\"LOWER\": \"costa del este, chanis, santa maria\", \"OP\":\"?\"}, {\"IS_PUNCT\": True, 'OP':'?'}, {\"LOWER\": \"town center\"}]\n",
        "pattern3 = [{\"LOWER\": \"clayton, cardenas, el dorado, paraiso\", \"OP\":\"?\"}, {\"IS_PUNCT\": True, 'OP':'?'}, {\"LOWER\": \"albrook\"}]\n",
        "pattern4 = [{\"LOWER\": \"brisas del golf, cerro viento, villa lucre\", \"OP\":\"?\"}, {\"IS_PUNCT\": True, 'OP':'?'}, {\"LOWER\": \"metromall\"}]"
      ],
      "execution_count": 296,
      "outputs": []
    },
    {
      "cell_type": "markdown",
      "metadata": {
        "id": "fQJjEZ_9tlbY"
      },
      "source": [
        "pattern2 = [{\"LOWER\": \"costa del este, chanis, santa maria\"}, {\"IS_PUNCT\": False, 'OP':'?'}, {\"LOWER\": \"town center\"}]\n",
        "pattern3 = [{\"LOWER\": \"clayton, cardenas, el dorado, paraiso\"}, {\"IS_PUNCT\": False, 'OP':'?'}, {\"LOWER\": \"albrook\"}]\n",
        "pattern4 = [{\"LOWER\": \"brisas del golf, cerro viento, villa lucre\"}, {\"IS_PUNCT\": False, 'OP':'?'}, {\"LOWER\": \"metromall\"}]"
      ]
    },
    {
      "cell_type": "code",
      "metadata": {
        "id": "NiHBLnTClXn_"
      },
      "source": [
        "matcher = Matcher(nlp.vocab)"
      ],
      "execution_count": 297,
      "outputs": []
    },
    {
      "cell_type": "code",
      "metadata": {
        "id": "oVGign5IlSmI"
      },
      "source": [
        "\n",
        "m_tool.add('Multiplaza', None, pattern1)\n",
        "m_tool.add('Town Center', None, pattern2)\n",
        "m_tool.add('Albrook', None, pattern3)\n",
        "m_tool.add('Metromall', None, pattern4)"
      ],
      "execution_count": 299,
      "outputs": []
    },
    {
      "cell_type": "code",
      "metadata": {
        "id": "ymG3QrE-Ir9T"
      },
      "source": [
        "doc = nlp(\"El Cangrejo, Multiplaza\")\n"
      ],
      "execution_count": 300,
      "outputs": []
    },
    {
      "cell_type": "markdown",
      "metadata": {
        "id": "_FhO7C1iOzyi"
      },
      "source": [
        "\"Costa del Este, Town Center\"\n",
        "\"Clayton, Albrook\"\n",
        "\"Brisas del Golf, Metromall\"\n",
        "\"San Francisco, Multiplaza\"\n",
        "\"Brisas del Golf, Metromall\"\n",
        "\"Paitilla, Multiplaza\"\n",
        "\"Cardenas, Albrook\"\n",
        "\"Chanis, Town Center\"\n",
        "\"Cerro Viento, Metromall\"\n",
        "\"Villa Lucre, Metromall\"\n",
        "\"Santa María, Town Center\"\n",
        "\"Via Israel, Multiplaza\"\n",
        "\"El Dorado, Albrook\"\n",
        "\"Paraiso, Albrook\""
      ]
    },
    {
      "cell_type": "code",
      "metadata": {
        "id": "DKsTCJRdqIF0"
      },
      "source": [
        "matches = matcher(doc)"
      ],
      "execution_count": 301,
      "outputs": []
    },
    {
      "cell_type": "code",
      "metadata": {
        "colab": {
          "base_uri": "https://localhost:8080/"
        },
        "id": "EN_FkxlyOuhA",
        "outputId": "ec702225-9b6a-4619-ceed-4ea5cd81e2e4"
      },
      "source": [
        "matches"
      ],
      "execution_count": 302,
      "outputs": [
        {
          "output_type": "execute_result",
          "data": {
            "text/plain": [
              "[]"
            ]
          },
          "metadata": {},
          "execution_count": 302
        }
      ]
    },
    {
      "cell_type": "code",
      "metadata": {
        "colab": {
          "base_uri": "https://localhost:8080/"
        },
        "id": "SU36W1xGPbOy",
        "outputId": "47fab7b6-39d9-42a8-d9e5-46e960320be7"
      },
      "source": [
        "for token in doc:\n",
        "    print(token)"
      ],
      "execution_count": 303,
      "outputs": [
        {
          "output_type": "stream",
          "name": "stdout",
          "text": [
            "El\n",
            "Cangrejo\n",
            ",\n",
            "Multiplaza\n"
          ]
        }
      ]
    },
    {
      "cell_type": "code",
      "metadata": {
        "id": "aFQ0A-akPqlQ"
      },
      "source": [
        "for match_id, start, end in matches:\n",
        "    string_id = nlp.vocab.strings[match_id]\n",
        "    span = dos[star:end]\n",
        "    print(match_id, string_id, start, end, span.text)"
      ],
      "execution_count": 304,
      "outputs": []
    },
    {
      "cell_type": "code",
      "metadata": {
        "colab": {
          "base_uri": "https://localhost:8080/"
        },
        "id": "rX_uxIOrRLkA",
        "outputId": "21ffc76b-a088-4826-a6e8-ce8a69bf2be3"
      },
      "source": [
        "for token in doc:\n",
        "    print(token)"
      ],
      "execution_count": 305,
      "outputs": [
        {
          "output_type": "stream",
          "name": "stdout",
          "text": [
            "El\n",
            "Cangrejo\n",
            ",\n",
            "Multiplaza\n"
          ]
        }
      ]
    }
  ]
}